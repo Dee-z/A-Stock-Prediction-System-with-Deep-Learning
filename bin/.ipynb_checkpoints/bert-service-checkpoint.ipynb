{
 "cells": [
  {
   "cell_type": "code",
   "execution_count": 1,
   "metadata": {},
   "outputs": [
    {
     "name": "stdout",
     "output_type": "stream",
     "text": [
      "I:\u001b[35mVENTILATOR\u001b[0m:freeze, optimize and export graph, could take a while...\n",
      "I:\u001b[35mVENTILATOR\u001b[0m:optimized graph is stored at: C:\\Users\\LONGF~1.DES\\AppData\\Local\\Temp\\tmpn6930da6\n",
      "I:\u001b[35mVENTILATOR\u001b[0m:bind all sockets\n",
      "I:\u001b[35mVENTILATOR\u001b[0m:open 8 ventilator-worker sockets\n",
      "I:\u001b[35mVENTILATOR\u001b[0m:start the sink\n",
      "I:\u001b[35mVENTILATOR\u001b[0m:get devices\n",
      "I:\u001b[35mVENTILATOR\u001b[0m:device map: \n",
      "\t\tworker  0 -> gpu  0\n",
      "I:\u001b[35mVENTILATOR\u001b[0m:start http proxy\n"
     ]
    }
   ],
   "source": [
    "from bert_serving.server.helper import get_args_parser\n",
    "from bert_serving.server import BertServer\n",
    "from bert_serving.client import BertClient\n",
    "\n",
    "def bert_service(start=True):# 启动bert服务 并启动服务监控\n",
    "    args = get_args_parser().parse_args([\n",
    "                                        '-model_dir', 'C:\\\\Users\\\\longf.DESKTOP-7QSFE46\\\\GitHub\\\\A-Stock-Prediction-System-with-GAN-and-DRL\\\\models\\\\chinese_L-12_H-768_A-12',\n",
    "                                        '-max_seq_len', 'NONE',\n",
    "                                        '-num_worker', '1'])\n",
    "    server = BertServer(args)\n",
    "    if start:\n",
    "        server.start()\n",
    "    else:  \n",
    "        BertServer.shutdown(port='5555')\n",
    "    \n",
    "bert_service()\n"
   ]
  },
  {
   "cell_type": "code",
   "execution_count": null,
   "metadata": {},
   "outputs": [],
   "source": [
    "import json\n",
    "bc = BertClient(ip='127.0.0.1')\n",
    "json.dumps(bc.server_status, ensure_ascii=False)\n",
    "print(bc.encode(['First do it', 'then do it right', 'then do it better']))"
   ]
  },
  {
   "cell_type": "code",
   "execution_count": null,
   "metadata": {},
   "outputs": [],
   "source": [
    "bc.encode(['First do it ||| then do it right'])"
   ]
  },
  {
   "cell_type": "code",
   "execution_count": null,
   "metadata": {},
   "outputs": [],
   "source": []
  }
 ],
 "metadata": {
  "kernelspec": {
   "display_name": "Python 3",
   "language": "python",
   "name": "python3"
  },
  "language_info": {
   "codemirror_mode": {
    "name": "ipython",
    "version": 3
   },
   "file_extension": ".py",
   "mimetype": "text/x-python",
   "name": "python",
   "nbconvert_exporter": "python",
   "pygments_lexer": "ipython3",
   "version": "3.7.3"
  }
 },
 "nbformat": 4,
 "nbformat_minor": 2
}
