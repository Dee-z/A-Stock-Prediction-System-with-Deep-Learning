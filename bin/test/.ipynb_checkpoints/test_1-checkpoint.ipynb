{
 "cells": [
  {
   "cell_type": "code",
   "execution_count": 5,
   "metadata": {},
   "outputs": [
    {
     "ename": "KeyError",
     "evalue": "\"None of [DatetimeIndex(['2019-07-21 10:01:10', '2019-07-21 10:13:21',\\n               '2019-07-21 10:16:36', '2019-07-21 10:37:01',\\n               '2019-07-21 10:40:06', '2019-07-21 10:56:04',\\n               '2019-07-21 10:58:05', '2019-07-21 11:14:18',\\n               '2019-07-21 13:22:21', '2019-07-21 13:32:35',\\n               ...\\n               '2019-07-28 14:21:12', '2019-07-28 14:24:25',\\n               '2019-07-28 14:25:55', '2019-07-28 14:33:52',\\n               '2019-07-28 14:37:42', '2019-07-28 14:38:10',\\n               '2019-07-28 14:42:04', '2019-07-28 14:45:50',\\n               '2019-07-28 14:48:01', '2019-07-28 14:56:58'],\\n              dtype='datetime64[ns]', length=619, freq=None)] are in the [columns]\"",
     "output_type": "error",
     "traceback": [
      "\u001b[1;31m---------------------------------------------------------------------------\u001b[0m",
      "\u001b[1;31mKeyError\u001b[0m                                  Traceback (most recent call last)",
      "\u001b[1;32m<ipython-input-5-1b70b7c15e2b>\u001b[0m in \u001b[0;36m<module>\u001b[1;34m\u001b[0m\n\u001b[0;32m     35\u001b[0m \u001b[0my_fluctuation\u001b[0m \u001b[1;33m=\u001b[0m \u001b[0my_data\u001b[0m \u001b[1;33m-\u001b[0m \u001b[0my_data\u001b[0m\u001b[1;33m.\u001b[0m\u001b[0mshift\u001b[0m\u001b[1;33m(\u001b[0m\u001b[1;36m1\u001b[0m\u001b[1;33m)\u001b[0m\u001b[1;33m\u001b[0m\u001b[1;33m\u001b[0m\u001b[0m\n\u001b[0;32m     36\u001b[0m \u001b[1;33m\u001b[0m\u001b[0m\n\u001b[1;32m---> 37\u001b[1;33m \u001b[0mx_open\u001b[0m \u001b[1;33m=\u001b[0m \u001b[0mx_data\u001b[0m\u001b[1;33m[\u001b[0m\u001b[0mx_open_market_index\u001b[0m\u001b[1;33m]\u001b[0m\u001b[1;33m\u001b[0m\u001b[1;33m\u001b[0m\u001b[0m\n\u001b[0m\u001b[0;32m     38\u001b[0m \u001b[0my_open\u001b[0m \u001b[1;33m=\u001b[0m \u001b[0my_fluctuation\u001b[0m\u001b[1;33m[\u001b[0m\u001b[0my_open_market_index\u001b[0m\u001b[1;33m]\u001b[0m\u001b[1;33m\u001b[0m\u001b[1;33m\u001b[0m\u001b[0m\n\u001b[0;32m     39\u001b[0m \u001b[0mx_close\u001b[0m \u001b[1;33m=\u001b[0m \u001b[0mx_data\u001b[0m\u001b[1;33m[\u001b[0m\u001b[0mx_close_market_index\u001b[0m\u001b[1;33m]\u001b[0m\u001b[1;33m\u001b[0m\u001b[1;33m\u001b[0m\u001b[0m\n",
      "\u001b[1;32m~\\Anaconda3\\envs\\keras\\lib\\site-packages\\pandas\\core\\frame.py\u001b[0m in \u001b[0;36m__getitem__\u001b[1;34m(self, key)\u001b[0m\n\u001b[0;32m   2932\u001b[0m                 \u001b[0mkey\u001b[0m \u001b[1;33m=\u001b[0m \u001b[0mlist\u001b[0m\u001b[1;33m(\u001b[0m\u001b[0mkey\u001b[0m\u001b[1;33m)\u001b[0m\u001b[1;33m\u001b[0m\u001b[1;33m\u001b[0m\u001b[0m\n\u001b[0;32m   2933\u001b[0m             indexer = self.loc._convert_to_indexer(key, axis=1,\n\u001b[1;32m-> 2934\u001b[1;33m                                                    raise_missing=True)\n\u001b[0m\u001b[0;32m   2935\u001b[0m \u001b[1;33m\u001b[0m\u001b[0m\n\u001b[0;32m   2936\u001b[0m         \u001b[1;31m# take() does not accept boolean indexers\u001b[0m\u001b[1;33m\u001b[0m\u001b[1;33m\u001b[0m\u001b[1;33m\u001b[0m\u001b[0m\n",
      "\u001b[1;32m~\\Anaconda3\\envs\\keras\\lib\\site-packages\\pandas\\core\\indexing.py\u001b[0m in \u001b[0;36m_convert_to_indexer\u001b[1;34m(self, obj, axis, is_setter, raise_missing)\u001b[0m\n\u001b[0;32m   1352\u001b[0m                 kwargs = {'raise_missing': True if is_setter else\n\u001b[0;32m   1353\u001b[0m                           raise_missing}\n\u001b[1;32m-> 1354\u001b[1;33m                 \u001b[1;32mreturn\u001b[0m \u001b[0mself\u001b[0m\u001b[1;33m.\u001b[0m\u001b[0m_get_listlike_indexer\u001b[0m\u001b[1;33m(\u001b[0m\u001b[0mobj\u001b[0m\u001b[1;33m,\u001b[0m \u001b[0maxis\u001b[0m\u001b[1;33m,\u001b[0m \u001b[1;33m**\u001b[0m\u001b[0mkwargs\u001b[0m\u001b[1;33m)\u001b[0m\u001b[1;33m[\u001b[0m\u001b[1;36m1\u001b[0m\u001b[1;33m]\u001b[0m\u001b[1;33m\u001b[0m\u001b[1;33m\u001b[0m\u001b[0m\n\u001b[0m\u001b[0;32m   1355\u001b[0m         \u001b[1;32melse\u001b[0m\u001b[1;33m:\u001b[0m\u001b[1;33m\u001b[0m\u001b[1;33m\u001b[0m\u001b[0m\n\u001b[0;32m   1356\u001b[0m             \u001b[1;32mtry\u001b[0m\u001b[1;33m:\u001b[0m\u001b[1;33m\u001b[0m\u001b[1;33m\u001b[0m\u001b[0m\n",
      "\u001b[1;32m~\\Anaconda3\\envs\\keras\\lib\\site-packages\\pandas\\core\\indexing.py\u001b[0m in \u001b[0;36m_get_listlike_indexer\u001b[1;34m(self, key, axis, raise_missing)\u001b[0m\n\u001b[0;32m   1159\u001b[0m         self._validate_read_indexer(keyarr, indexer,\n\u001b[0;32m   1160\u001b[0m                                     \u001b[0mo\u001b[0m\u001b[1;33m.\u001b[0m\u001b[0m_get_axis_number\u001b[0m\u001b[1;33m(\u001b[0m\u001b[0maxis\u001b[0m\u001b[1;33m)\u001b[0m\u001b[1;33m,\u001b[0m\u001b[1;33m\u001b[0m\u001b[1;33m\u001b[0m\u001b[0m\n\u001b[1;32m-> 1161\u001b[1;33m                                     raise_missing=raise_missing)\n\u001b[0m\u001b[0;32m   1162\u001b[0m         \u001b[1;32mreturn\u001b[0m \u001b[0mkeyarr\u001b[0m\u001b[1;33m,\u001b[0m \u001b[0mindexer\u001b[0m\u001b[1;33m\u001b[0m\u001b[1;33m\u001b[0m\u001b[0m\n\u001b[0;32m   1163\u001b[0m \u001b[1;33m\u001b[0m\u001b[0m\n",
      "\u001b[1;32m~\\Anaconda3\\envs\\keras\\lib\\site-packages\\pandas\\core\\indexing.py\u001b[0m in \u001b[0;36m_validate_read_indexer\u001b[1;34m(self, key, indexer, axis, raise_missing)\u001b[0m\n\u001b[0;32m   1244\u001b[0m                 raise KeyError(\n\u001b[0;32m   1245\u001b[0m                     u\"None of [{key}] are in the [{axis}]\".format(\n\u001b[1;32m-> 1246\u001b[1;33m                         key=key, axis=self.obj._get_axis_name(axis)))\n\u001b[0m\u001b[0;32m   1247\u001b[0m \u001b[1;33m\u001b[0m\u001b[0m\n\u001b[0;32m   1248\u001b[0m             \u001b[1;31m# We (temporarily) allow for some missing keys with .loc, except in\u001b[0m\u001b[1;33m\u001b[0m\u001b[1;33m\u001b[0m\u001b[1;33m\u001b[0m\u001b[0m\n",
      "\u001b[1;31mKeyError\u001b[0m: \"None of [DatetimeIndex(['2019-07-21 10:01:10', '2019-07-21 10:13:21',\\n               '2019-07-21 10:16:36', '2019-07-21 10:37:01',\\n               '2019-07-21 10:40:06', '2019-07-21 10:56:04',\\n               '2019-07-21 10:58:05', '2019-07-21 11:14:18',\\n               '2019-07-21 13:22:21', '2019-07-21 13:32:35',\\n               ...\\n               '2019-07-28 14:21:12', '2019-07-28 14:24:25',\\n               '2019-07-28 14:25:55', '2019-07-28 14:33:52',\\n               '2019-07-28 14:37:42', '2019-07-28 14:38:10',\\n               '2019-07-28 14:42:04', '2019-07-28 14:45:50',\\n               '2019-07-28 14:48:01', '2019-07-28 14:56:58'],\\n              dtype='datetime64[ns]', length=619, freq=None)] are in the [columns]\""
     ]
    }
   ],
   "source": [
    "import pandas as pd\n",
    "import numpy as np\n",
    "import datetime as dt\n",
    "\n",
    "open_time = dt.time(9,30)\n",
    "close_time = dt.time(15,0)\n",
    "moon_break_time = dt.time(11,30)\n",
    "moon_open_time = dt.time(13,1)\n",
    "\n",
    "# 读入数据\n",
    "data_csv = pd.read_csv('C:\\\\Users\\\\longf.DESKTOP-7QSFE46\\\\GitHub\\\\A-Stock-Prediction-System-with-GAN-and-DRL\\\\dataset\\\\News_with_code-2019-07-28-to-2019-01-30.csv', \n",
    "                       nrows=3000)\n",
    "x_data = data_csv.set_index(\n",
    "                        pd.to_datetime(data_csv['datetime'])).drop(\n",
    "                            columns=[x for x in data_csv.columns if x.startswith('Unnamed: ')]).sort_index(ascending=True)\n",
    "\n",
    "data_csv = pd.read_csv('C:\\\\Users\\\\longf.DESKTOP-7QSFE46\\\\GitHub\\\\A-Stock-Prediction-System-with-GAN-and-DRL\\\\dataset\\\\MinutesStock-600690.SH-6 months from 2019-07-29 .csv',\n",
    "                      usecols=[\"trade_time\", \"open\", \"high\", \"low\", \"close\", \"vol\"])\n",
    "y_data = data_csv.set_index(\n",
    "                        pd.to_datetime(data_csv['trade_time'])).drop(\n",
    "                            columns=[x for x in data_csv.columns if x.startswith('Unnamed: ')]).sort_index(ascending=True)\n",
    "y_data = y_data.drop(columns=['trade_time'])\n",
    "\n",
    "# 处理开市和休市索引\n",
    "x_open_market_index = [x for x in x_data.index \n",
    "                                if (x.time() >= open_time and x.time() <= moon_break_time) \n",
    "                                or (x.time() >= moon_open_time and x.time() <= close_time)\n",
    "                        ]\n",
    "y_open_market_index = [x for x in y_data.index \n",
    "                                if (x.time() >= open_time and x.time() <= moon_break_time) \n",
    "                                or (x.time() >= moon_open_time and x.time() <= close_time)\n",
    "                        ]\n",
    "x_close_market_index = [x for x in x_data.index if x not in x_open_market_index ]\n",
    "y_close_market_index = [x for x in y_data.index if x not in y_open_market_index ]\n",
    "y_fluctuation = y_data - y_data.shift(1)\n",
    "\n",
    "x_open = x_data[x_open_market_index]\n",
    "y_open = y_fluctuation[y_open_market_index]\n",
    "x_close = x_data[x_close_market_index]\n",
    "y_close = y_fluctuation[y_close_market_index]\n",
    "\n",
    "print(x_open.head(5), x_open.tail(5))\n",
    "print(y_open.head(5), y_open.tail(5))\n",
    "print(x_close.head(5), x_close.tail(5))\n",
    "print(y_close.head(5), y_close.tail(5))"
   ]
  },
  {
   "cell_type": "code",
   "execution_count": null,
   "metadata": {},
   "outputs": [],
   "source": []
  }
 ],
 "metadata": {
  "kernelspec": {
   "display_name": "Python 3",
   "language": "python",
   "name": "python3"
  },
  "language_info": {
   "codemirror_mode": {
    "name": "ipython",
    "version": 3
   },
   "file_extension": ".py",
   "mimetype": "text/x-python",
   "name": "python",
   "nbconvert_exporter": "python",
   "pygments_lexer": "ipython3",
   "version": "3.7.3"
  }
 },
 "nbformat": 4,
 "nbformat_minor": 2
}
