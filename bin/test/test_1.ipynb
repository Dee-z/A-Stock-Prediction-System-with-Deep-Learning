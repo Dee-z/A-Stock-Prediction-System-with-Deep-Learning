{
 "cells": [
  {
   "cell_type": "code",
   "execution_count": 6,
   "metadata": {},
   "outputs": [
    {
     "ename": "ValueError",
     "evalue": "Lengths must match",
     "output_type": "error",
     "traceback": [
      "\u001b[1;31m---------------------------------------------------------------------------\u001b[0m",
      "\u001b[1;31mValueError\u001b[0m                                Traceback (most recent call last)",
      "\u001b[1;32m<ipython-input-6-1a81452eb8ef>\u001b[0m in \u001b[0;36m<module>\u001b[1;34m\u001b[0m\n\u001b[0;32m     35\u001b[0m \u001b[0my_fluctuation\u001b[0m \u001b[1;33m=\u001b[0m \u001b[0my_data\u001b[0m \u001b[1;33m-\u001b[0m \u001b[0my_data\u001b[0m\u001b[1;33m.\u001b[0m\u001b[0mshift\u001b[0m\u001b[1;33m(\u001b[0m\u001b[1;36m1\u001b[0m\u001b[1;33m)\u001b[0m\u001b[1;33m\u001b[0m\u001b[1;33m\u001b[0m\u001b[0m\n\u001b[0;32m     36\u001b[0m \u001b[1;33m\u001b[0m\u001b[0m\n\u001b[1;32m---> 37\u001b[1;33m \u001b[0mx_open\u001b[0m \u001b[1;33m=\u001b[0m \u001b[0mx_data\u001b[0m\u001b[1;33m[\u001b[0m\u001b[0mx_data\u001b[0m\u001b[1;33m.\u001b[0m\u001b[0mindex\u001b[0m\u001b[1;33m==\u001b[0m\u001b[0mx_open_market_index\u001b[0m\u001b[1;33m]\u001b[0m\u001b[1;33m\u001b[0m\u001b[1;33m\u001b[0m\u001b[0m\n\u001b[0m\u001b[0;32m     38\u001b[0m \u001b[0my_open\u001b[0m \u001b[1;33m=\u001b[0m \u001b[0my_fluctuation\u001b[0m\u001b[1;33m[\u001b[0m\u001b[0my_open_market_index\u001b[0m\u001b[1;33m]\u001b[0m\u001b[1;33m\u001b[0m\u001b[1;33m\u001b[0m\u001b[0m\n\u001b[0;32m     39\u001b[0m \u001b[0mx_close\u001b[0m \u001b[1;33m=\u001b[0m \u001b[0mx_data\u001b[0m\u001b[1;33m[\u001b[0m\u001b[0mx_close_market_index\u001b[0m\u001b[1;33m]\u001b[0m\u001b[1;33m\u001b[0m\u001b[1;33m\u001b[0m\u001b[0m\n",
      "\u001b[1;32m~\\Anaconda3\\envs\\keras\\lib\\site-packages\\pandas\\core\\indexes\\datetimelike.py\u001b[0m in \u001b[0;36mwrapper\u001b[1;34m(self, other)\u001b[0m\n\u001b[0;32m    115\u001b[0m                 \u001b[0mother\u001b[0m \u001b[1;33m=\u001b[0m \u001b[0mother\u001b[0m\u001b[1;33m.\u001b[0m\u001b[0m_values\u001b[0m\u001b[1;33m\u001b[0m\u001b[1;33m\u001b[0m\u001b[0m\n\u001b[0;32m    116\u001b[0m \u001b[1;33m\u001b[0m\u001b[0m\n\u001b[1;32m--> 117\u001b[1;33m             \u001b[0mresult\u001b[0m \u001b[1;33m=\u001b[0m \u001b[0mop\u001b[0m\u001b[1;33m(\u001b[0m\u001b[0mself\u001b[0m\u001b[1;33m.\u001b[0m\u001b[0m_data\u001b[0m\u001b[1;33m,\u001b[0m \u001b[0mmaybe_unwrap_index\u001b[0m\u001b[1;33m(\u001b[0m\u001b[0mother\u001b[0m\u001b[1;33m)\u001b[0m\u001b[1;33m)\u001b[0m\u001b[1;33m\u001b[0m\u001b[1;33m\u001b[0m\u001b[0m\n\u001b[0m\u001b[0;32m    118\u001b[0m             \u001b[1;32mreturn\u001b[0m \u001b[0mresult\u001b[0m\u001b[1;33m\u001b[0m\u001b[1;33m\u001b[0m\u001b[0m\n\u001b[0;32m    119\u001b[0m \u001b[1;33m\u001b[0m\u001b[0m\n",
      "\u001b[1;32m~\\Anaconda3\\envs\\keras\\lib\\site-packages\\pandas\\core\\arrays\\datetimes.py\u001b[0m in \u001b[0;36mwrapper\u001b[1;34m(self, other)\u001b[0m\n\u001b[0;32m    154\u001b[0m             \u001b[1;32mreturn\u001b[0m \u001b[0mops\u001b[0m\u001b[1;33m.\u001b[0m\u001b[0minvalid_comparison\u001b[0m\u001b[1;33m(\u001b[0m\u001b[0mself\u001b[0m\u001b[1;33m,\u001b[0m \u001b[0mother\u001b[0m\u001b[1;33m,\u001b[0m \u001b[0mop\u001b[0m\u001b[1;33m)\u001b[0m\u001b[1;33m\u001b[0m\u001b[1;33m\u001b[0m\u001b[0m\n\u001b[0;32m    155\u001b[0m         \u001b[1;32melif\u001b[0m \u001b[0mlen\u001b[0m\u001b[1;33m(\u001b[0m\u001b[0mother\u001b[0m\u001b[1;33m)\u001b[0m \u001b[1;33m!=\u001b[0m \u001b[0mlen\u001b[0m\u001b[1;33m(\u001b[0m\u001b[0mself\u001b[0m\u001b[1;33m)\u001b[0m\u001b[1;33m:\u001b[0m\u001b[1;33m\u001b[0m\u001b[1;33m\u001b[0m\u001b[0m\n\u001b[1;32m--> 156\u001b[1;33m             \u001b[1;32mraise\u001b[0m \u001b[0mValueError\u001b[0m\u001b[1;33m(\u001b[0m\u001b[1;34m\"Lengths must match\"\u001b[0m\u001b[1;33m)\u001b[0m\u001b[1;33m\u001b[0m\u001b[1;33m\u001b[0m\u001b[0m\n\u001b[0m\u001b[0;32m    157\u001b[0m         \u001b[1;32melse\u001b[0m\u001b[1;33m:\u001b[0m\u001b[1;33m\u001b[0m\u001b[1;33m\u001b[0m\u001b[0m\n\u001b[0;32m    158\u001b[0m             \u001b[1;32mif\u001b[0m \u001b[0misinstance\u001b[0m\u001b[1;33m(\u001b[0m\u001b[0mother\u001b[0m\u001b[1;33m,\u001b[0m \u001b[0mlist\u001b[0m\u001b[1;33m)\u001b[0m\u001b[1;33m:\u001b[0m\u001b[1;33m\u001b[0m\u001b[1;33m\u001b[0m\u001b[0m\n",
      "\u001b[1;31mValueError\u001b[0m: Lengths must match"
     ]
    }
   ],
   "source": [
    "import pandas as pd\n",
    "import numpy as np\n",
    "import datetime as dt\n",
    "\n",
    "open_time = dt.time(9,30)\n",
    "close_time = dt.time(15,0)\n",
    "moon_break_time = dt.time(11,30)\n",
    "moon_open_time = dt.time(13,1)\n",
    "\n",
    "# 读入数据\n",
    "data_csv = pd.read_csv('C:\\\\Users\\\\longf.DESKTOP-7QSFE46\\\\GitHub\\\\A-Stock-Prediction-System-with-GAN-and-DRL\\\\dataset\\\\News_with_code-2019-07-28-to-2019-01-30.csv', \n",
    "                       nrows=3000)\n",
    "x_data = data_csv.set_index(\n",
    "                        pd.to_datetime(data_csv['datetime'])).drop(\n",
    "                            columns=[x for x in data_csv.columns if x.startswith('Unnamed: ')]).sort_index(ascending=True)\n",
    "\n",
    "data_csv = pd.read_csv('C:\\\\Users\\\\longf.DESKTOP-7QSFE46\\\\GitHub\\\\A-Stock-Prediction-System-with-GAN-and-DRL\\\\dataset\\\\MinutesStock-600690.SH-6 months from 2019-07-29 .csv',\n",
    "                      usecols=[\"trade_time\", \"open\", \"high\", \"low\", \"close\", \"vol\"])\n",
    "y_data = data_csv.set_index(\n",
    "                        pd.to_datetime(data_csv['trade_time'])).drop(\n",
    "                            columns=[x for x in data_csv.columns if x.startswith('Unnamed: ')]).sort_index(ascending=True)\n",
    "y_data = y_data.drop(columns=['trade_time'])\n",
    "\n",
    "# 处理开市和休市索引\n",
    "x_open_market_index = [x for x in x_data.index \n",
    "                                if (x.time() >= open_time and x.time() <= moon_break_time) \n",
    "                                or (x.time() >= moon_open_time and x.time() <= close_time)\n",
    "                        ]\n",
    "y_open_market_index = [x for x in y_data.index \n",
    "                                if (x.time() >= open_time and x.time() <= moon_break_time) \n",
    "                                or (x.time() >= moon_open_time and x.time() <= close_time)\n",
    "                        ]\n",
    "x_close_market_index = [x for x in x_data.index if x not in x_open_market_index ]\n",
    "y_close_market_index = [x for x in y_data.index if x not in y_open_market_index ]\n",
    "y_fluctuation = y_data - y_data.shift(1)\n",
    "\n",
    "x_open = x_data[x_data.index==x_open_market_index]\n",
    "y_open = y_fluctuation[y_open_market_index]\n",
    "x_close = x_data[x_close_market_index]\n",
    "y_close = y_fluctuation[y_close_market_index]\n",
    "\n",
    "print(x_open.head(5), x_open.tail(5))\n",
    "print(y_open.head(5), y_open.tail(5))\n",
    "print(x_close.head(5), x_close.tail(5))\n",
    "print(y_close.head(5), y_close.tail(5))"
   ]
  },
  {
   "cell_type": "code",
   "execution_count": null,
   "metadata": {},
   "outputs": [],
   "source": []
  }
 ],
 "metadata": {
  "kernelspec": {
   "display_name": "Python 3",
   "language": "python",
   "name": "python3"
  },
  "language_info": {
   "codemirror_mode": {
    "name": "ipython",
    "version": 3
   },
   "file_extension": ".py",
   "mimetype": "text/x-python",
   "name": "python",
   "nbconvert_exporter": "python",
   "pygments_lexer": "ipython3",
   "version": "3.7.3"
  }
 },
 "nbformat": 4,
 "nbformat_minor": 2
}
